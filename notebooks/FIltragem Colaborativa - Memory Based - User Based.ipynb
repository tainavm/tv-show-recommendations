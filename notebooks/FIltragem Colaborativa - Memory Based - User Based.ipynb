{
 "cells": [
  {
   "cell_type": "code",
   "execution_count": 57,
   "metadata": {},
   "outputs": [],
   "source": [
    "from math import sqrt\n",
    "import pandas as pd\n",
    "import numpy as np \n",
    "\n",
    "def loadData():\n",
    "    shows = {}\n",
    "    for line in open('tv-shows-2.csv'):\n",
    "        (id, title) = line.split(',')[0:2]\n",
    "        shows[id] = title\n",
    "    # print(shows)\n",
    "\n",
    "    base = {}\n",
    "    for line in open('data.csv'):\n",
    "        (user, show_id, rating) = line.split(',')\n",
    "        base.setdefault(user, {})\n",
    "        base[user][shows[show_id]] = float(rating)\n",
    "    # print(base)\n",
    "\n",
    "    user = {}\n",
    "    for line in open('user.csv'):\n",
    "        (id, name) = line.rstrip('\\n').split(',')[0:2]\n",
    "        user[name] = id\n",
    "#     print(user)\n",
    "        \n",
    "    return base"
   ]
  },
  {
   "cell_type": "code",
   "execution_count": 58,
   "metadata": {},
   "outputs": [],
   "source": [
    "def get_user_id(user_name):\n",
    "    user_id = user[user_name]\n",
    "    return user_id"
   ]
  },
  {
   "cell_type": "code",
   "execution_count": 59,
   "metadata": {},
   "outputs": [],
   "source": [
    "def euclidiana(base, usuario1, usuario2):\n",
    "    si = {}\n",
    "    for item in base[usuario1]:\n",
    "        if item in base[usuario2]: si[item] = 1\n",
    "\n",
    "    if len(si) == 0: return 0\n",
    "\n",
    "    soma = sum([pow(base[usuario1][item] - base[usuario2][item], 2)\n",
    "                for item in base[usuario1] if item in base[usuario2]])\n",
    "    return 1/(1 + sqrt(soma))\n",
    "\n",
    "def getSimilares(base, usuario):\n",
    "    similaridade = [(euclidiana(base, usuario, outro), outro)\n",
    "                    for outro in base if outro != usuario]\n",
    "    similaridade.sort()\n",
    "    similaridade.reverse()\n",
    "    return similaridade[0:10]\n",
    "\n",
    "def calculaItensSimilares(base):\n",
    "    result = {}\n",
    "    for item in base:\n",
    "        notas = getSimilares(base, item)\n",
    "        result[item] = notas\n",
    "    return result\n"
   ]
  },
  {
   "cell_type": "code",
   "execution_count": 109,
   "metadata": {},
   "outputs": [],
   "source": [
    "def getRecomendacoesUsuario(base, usuario):\n",
    "    totais={}\n",
    "    somaSimilaridade={}\n",
    "    for outro in base:\n",
    "        if outro == usuario: continue\n",
    "        similaridade = euclidiana(base, usuario, outro)\n",
    "\n",
    "        if similaridade <= 0: continue\n",
    "\n",
    "        for item in base[outro]:\n",
    "            if item not in base[usuario]:\n",
    "                totais.setdefault(item, 0)\n",
    "                totais[item] += base[outro][item] * similaridade\n",
    "                somaSimilaridade.setdefault(item, 0)\n",
    "                somaSimilaridade[item] += similaridade\n",
    "    rankings=[(total / somaSimilaridade[item], item) for item, total in totais.items()]\n",
    "    rankings.sort()\n",
    "    rankings.reverse()\n",
    "\n",
    "    return rankings[0:30]\n",
    "#     i = 0\n",
    "#     for total, title in rankings[0:30]:\n",
    "# #         print(title)\n",
    "#         i = i + 1\n",
    "#         print('{0}: {1}'.format(i, title))\n",
    "# #     return rankings[0:30]\n"
   ]
  },
  {
   "cell_type": "code",
   "execution_count": 110,
   "metadata": {},
   "outputs": [
    {
     "name": "stdout",
     "output_type": "stream",
     "text": [
      "Recomendações para \"Tainá Viriato Mendes\": \n",
      "[(3.8504478326812497, 'Mr. Robot\\n'), (3.822033290068661, 'Forever\\n'), (3.8018490737109554, 'Dogs of Berlin\\n'), (3.792527806221915, 'The Client List\\n'), (3.7692650377701975, 'La casa de papel\\n'), (3.750183998854698, 'Dear White People\\n'), (3.749819836354336, \"Marvel's Agents of S.H.I.E.L.D.: Academy\\n\"), (3.746922601778671, 'Arrested Development\\n'), (3.742563786817308, 'Damages\\n'), (3.719972860677537, 'Marlon\\n'), (3.709616367794195, 'Bodyguard\\n'), (3.709366308267496, 'Legacies\\n'), (3.70621575295185, 'Private Practice\\n'), (3.7050257178806585, 'Scorpion\\n'), (3.704367859591261, 'Hannibal\\n'), (3.702985643088795, 'How to Get Away with Murder\\n'), (3.7022922784808987, 'Travelers\\n'), (3.7004856348786004, 'The Good Doctor\\n'), (3.6986155011590243, 'Madam Secretary\\n'), (3.698397523497952, 'New Girl\\n'), (3.698208523289905, 'Parks and Recreation\\n'), (3.6951936771393927, 'Bates Motel\\n'), (3.6948463440188175, 'Siren\\n'), (3.693839721917459, 'Flash\\n'), (3.6885420931430626, 'Fuller House\\n'), (3.683965833683091, 'The Umbrella Academy\\n'), (3.683693070539404, 'The Last Kingdom\\n'), (3.677765806036494, 'Line of Duty\\n'), (3.671871925221427, 'Girlboss\\n'), (3.671836888006472, 'Masters of Sex\\n')]\n"
     ]
    }
   ],
   "source": [
    "base = loadData()\n",
    "user_name = 'Tainá Viriato Mendes'\n",
    "user_id = get_user_id(user_name)\n",
    "\n",
    "print('Recomendações para \"{}\": '.format(user_name))\n",
    "\n",
    "recommendation = getRecomendacoesUsuario(base, user_id)\n",
    "\n",
    "print(recommendation)"
   ]
  },
  {
   "cell_type": "code",
   "execution_count": null,
   "metadata": {},
   "outputs": [],
   "source": []
  },
  {
   "cell_type": "code",
   "execution_count": null,
   "metadata": {},
   "outputs": [],
   "source": []
  }
 ],
 "metadata": {
  "kernelspec": {
   "display_name": "Python 3",
   "language": "python",
   "name": "python3"
  },
  "language_info": {
   "codemirror_mode": {
    "name": "ipython",
    "version": 3
   },
   "file_extension": ".py",
   "mimetype": "text/x-python",
   "name": "python",
   "nbconvert_exporter": "python",
   "pygments_lexer": "ipython3",
   "version": "3.7.3"
  }
 },
 "nbformat": 4,
 "nbformat_minor": 2
}
