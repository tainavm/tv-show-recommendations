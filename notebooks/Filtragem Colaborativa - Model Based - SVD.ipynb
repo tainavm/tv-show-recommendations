{
 "cells": [
  {
   "cell_type": "code",
   "execution_count": 3,
   "metadata": {},
   "outputs": [],
   "source": [
    "import numpy as np\n",
    "import pandas as pd\n",
    "import time\n",
    "import os\n",
    "from surprise import Reader\n",
    "from surprise import SVD\n",
    "from surprise import Dataset\n",
    "from surprise import evaluate, print_perf\n",
    "from surprise.model_selection import cross_validate\n",
    "\n",
    "# Read the file\n",
    "data = pd.io.parsers.read_csv('../datasets/ratings-oficial.dat', \n",
    "    names=['user_id', 'movie_id', 'rating'],\n",
    "    engine='python', delimiter='::')\n",
    "\n",
    "movie_data = pd.io.parsers.read_csv('../datasets/tv-shows-oficial.dat',\n",
    "    names=['movie_id', 'title'],\n",
    "    engine='python', delimiter=',')\n",
    "\n",
    "\n"
   ]
  },
  {
   "cell_type": "code",
   "execution_count": 4,
   "metadata": {},
   "outputs": [
    {
     "name": "stdout",
     "output_type": "stream",
     "text": [
      "[[  1   0   0 ...   0   6   3]\n",
      " [  0   0   0 ...   0   0   5]\n",
      " [  0   0   0 ...   0   0   3]\n",
      " ...\n",
      " [  0   0 128 ...   4   0   0]\n",
      " [  0   3   8 ...   4  32  27]\n",
      " [  8  10   1 ...  51   8   4]]\n"
     ]
    }
   ],
   "source": [
    "# Create the ratings matrix of shape (𝑚×𝑢) with rows as movies and columns as users\n",
    "ratings_mat = np.ndarray(\n",
    "    shape=(np.max(data.movie_id.values), np.max(data.user_id.values)),\n",
    "    dtype=np.uint8)\n",
    "ratings_mat[data.movie_id.values-1, data.user_id.values-1] = data.rating.values\n",
    "\n",
    "print(ratings_mat)"
   ]
  },
  {
   "cell_type": "code",
   "execution_count": 5,
   "metadata": {},
   "outputs": [
    {
     "data": {
      "text/plain": [
       "(1178, 610)"
      ]
     },
     "execution_count": 5,
     "metadata": {},
     "output_type": "execute_result"
    }
   ],
   "source": [
    "# movie x users\n",
    "ratings_mat.shape"
   ]
  },
  {
   "cell_type": "code",
   "execution_count": 6,
   "metadata": {},
   "outputs": [
    {
     "name": "stdout",
     "output_type": "stream",
     "text": [
      "[[ 6.39344262e-02 -9.36065574e-01 -9.36065574e-01 ... -9.36065574e-01\n",
      "   5.06393443e+00  2.06393443e+00]\n",
      " [-1.17049180e+00 -1.17049180e+00 -1.17049180e+00 ... -1.17049180e+00\n",
      "  -1.17049180e+00  3.82950820e+00]\n",
      " [-1.26557377e+00 -1.26557377e+00 -1.26557377e+00 ... -1.26557377e+00\n",
      "  -1.26557377e+00  1.73442623e+00]\n",
      " ...\n",
      " [-3.79180328e+01 -3.79180328e+01  9.00819672e+01 ... -3.39180328e+01\n",
      "  -3.79180328e+01 -3.79180328e+01]\n",
      " [-1.65754098e+01 -1.35754098e+01 -8.57540984e+00 ... -1.25754098e+01\n",
      "   1.54245902e+01  1.04245902e+01]\n",
      " [-1.08295082e+01 -8.82950820e+00 -1.78295082e+01 ...  3.21704918e+01\n",
      "  -1.08295082e+01 -1.48295082e+01]]\n"
     ]
    }
   ],
   "source": [
    "normalised_mat = ratings_mat - np.asarray([(np.mean(ratings_mat, 1))]).T\n",
    "\n",
    "print(normalised_mat)"
   ]
  },
  {
   "cell_type": "code",
   "execution_count": 7,
   "metadata": {},
   "outputs": [],
   "source": [
    "A = normalised_mat.T / np.sqrt(ratings_mat.shape[0] - 1)\n",
    "U, S, V = np.linalg.svd(A)\n"
   ]
  },
  {
   "cell_type": "code",
   "execution_count": 8,
   "metadata": {},
   "outputs": [],
   "source": [
    "def top_cosine_similarity(data, movie_id):\n",
    "    index = movie_id - 1 # Movie id starts from 1\n",
    "    movie_row = data[index, :]\n",
    "    magnitude = np.sqrt(np.einsum('ij, ij -> i', data, data))\n",
    "    similarity = np.dot(movie_row, data.T) / (magnitude[index] * magnitude)\n",
    "    sort_indexes = np.argsort(-similarity)\n",
    "#     return sort_indexes[:top_n]\n",
    "    return sort_indexes[1:11]\n",
    "\n",
    "def get_movie_id(movie_title):\n",
    "    movie_id = movie_data[movie_data.title == title].movie_id.values[0]\n",
    "    return movie_id\n",
    "\n",
    "# Helper function to print top N similar movies\n",
    "def print_similar_movies(movie_data, movie_id, top_indexes):\n",
    "    print('Baseado no seu gosto por \"{}\" você deveria assistir:'.format(\n",
    "    movie_data[movie_data.movie_id == movie_id].title.values[0]))\n",
    "    i = 0\n",
    "    for id in top_indexes + 1:\n",
    "        i = i + 1\n",
    "        print('{0}: {1}'.format(i, movie_data[movie_data.movie_id == id].title.values[0]))"
   ]
  },
  {
   "cell_type": "code",
   "execution_count": 9,
   "metadata": {},
   "outputs": [
    {
     "name": "stdout",
     "output_type": "stream",
     "text": [
      "Baseado no seu gosto por \"Criminal Minds\" você deveria assistir:\n",
      "1: Flashpoint\n",
      "2: Eureka\n",
      "3: Highschool of the Dead\n",
      "4: Ghost Adventures\n",
      "5: Duck Dodgers\n",
      "6: Night Court\n",
      "7: Mr. Robot\n",
      "8: The Strain\n",
      "9: Guilty Crown\n",
      "10: Doc Martin\n",
      "\n",
      "Total Runtime: 0.02 seconds\n"
     ]
    }
   ],
   "source": [
    "title = 'Criminal Minds'\n",
    "\n",
    "movie_id = get_movie_id(title)\n",
    "k = 50\n",
    "sliced = V.T[:, :k] # representative data\n",
    "indexes = top_cosine_similarity(sliced, movie_id)\n",
    "\n",
    "start_time = time.time()\n",
    "print_similar_movies(movie_data, movie_id, indexes)\n",
    "\n",
    "print ('\\nTotal Runtime: {:.2f} seconds'.format(time.time() - start_time))"
   ]
  },
  {
   "cell_type": "code",
   "execution_count": null,
   "metadata": {},
   "outputs": [],
   "source": []
  }
 ],
 "metadata": {
  "kernelspec": {
   "display_name": "Python 3",
   "language": "python",
   "name": "python3"
  },
  "language_info": {
   "codemirror_mode": {
    "name": "ipython",
    "version": 3
   },
   "file_extension": ".py",
   "mimetype": "text/x-python",
   "name": "python",
   "nbconvert_exporter": "python",
   "pygments_lexer": "ipython3",
   "version": "3.7.3"
  }
 },
 "nbformat": 4,
 "nbformat_minor": 2
}
