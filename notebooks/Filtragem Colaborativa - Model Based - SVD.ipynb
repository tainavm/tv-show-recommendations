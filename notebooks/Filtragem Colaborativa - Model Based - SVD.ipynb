{
 "cells": [
  {
   "cell_type": "code",
   "execution_count": 1,
   "metadata": {},
   "outputs": [],
   "source": [
    "import numpy as np\n",
    "import pandas as pd\n",
    "import time\n",
    "import os\n",
    "from surprise import Reader\n",
    "from surprise import SVD\n",
    "from surprise import Dataset\n",
    "from surprise import evaluate, print_perf\n",
    "from surprise.model_selection import cross_validate\n",
    "\n",
    "# Read the file\n",
    "data = pd.io.parsers.read_csv('ratings-oficial.dat', \n",
    "    names=['user_id', 'movie_id', 'rating'],\n",
    "    engine='python', delimiter='::')\n",
    "\n",
    "movie_data = pd.io.parsers.read_csv('tv-shows-oficial.dat',\n",
    "    names=['movie_id', 'title'],\n",
    "    engine='python', delimiter=',')\n",
    "\n",
    "\n"
   ]
  },
  {
   "cell_type": "code",
   "execution_count": 2,
   "metadata": {},
   "outputs": [],
   "source": [
    "# Create the ratings matrix of shape (𝑚×𝑢) with rows as movies and columns as users\n",
    "ratings_mat = np.ndarray(\n",
    "    shape=(np.max(data.movie_id.values), np.max(data.user_id.values)),\n",
    "    dtype=np.uint8)\n",
    "ratings_mat[data.movie_id.values-1, data.user_id.values-1] = data.rating.values\n"
   ]
  },
  {
   "cell_type": "code",
   "execution_count": 3,
   "metadata": {},
   "outputs": [
    {
     "data": {
      "text/plain": [
       "(1178, 610)"
      ]
     },
     "execution_count": 3,
     "metadata": {},
     "output_type": "execute_result"
    }
   ],
   "source": [
    "# movie x users\n",
    "ratings_mat.shape"
   ]
  },
  {
   "cell_type": "code",
   "execution_count": 4,
   "metadata": {},
   "outputs": [
    {
     "name": "stdout",
     "output_type": "stream",
     "text": [
      "[[ 84.86885246 -10.13114754 -14.13114754 ... -14.13114754  -9.13114754\n",
      "  -11.13114754]\n",
      " [-13.61639344 -13.61639344 -13.61639344 ...  -9.61639344 -13.61639344\n",
      "   -8.61639344]\n",
      " [-15.72786885 -15.72786885 -15.72786885 ... -15.72786885 -15.72786885\n",
      "  -12.72786885]\n",
      " ...\n",
      " [ -0.50655738  -0.50655738  -0.50655738 ...   3.49344262  -0.50655738\n",
      "   -0.50655738]\n",
      " [ -0.51147541  -0.51147541  -0.51147541 ...   3.48852459  -0.51147541\n",
      "   -0.51147541]\n",
      " [ -0.51803279  -0.51803279  -0.51803279 ...  -0.51803279  -0.51803279\n",
      "    3.48196721]]\n"
     ]
    }
   ],
   "source": [
    "normalised_mat = ratings_mat - np.asarray([(np.mean(ratings_mat, 1))]).T\n",
    "\n",
    "print(normalised_mat)"
   ]
  },
  {
   "cell_type": "code",
   "execution_count": 5,
   "metadata": {},
   "outputs": [],
   "source": [
    "A = normalised_mat.T / np.sqrt(ratings_mat.shape[0] - 1)\n",
    "U, S, V = np.linalg.svd(A)\n"
   ]
  },
  {
   "cell_type": "code",
   "execution_count": 6,
   "metadata": {},
   "outputs": [],
   "source": [
    "def top_cosine_similarity(data, movie_id):\n",
    "    index = movie_id - 1 # Movie id starts from 1\n",
    "    movie_row = data[index, :]\n",
    "    magnitude = np.sqrt(np.einsum('ij, ij -> i', data, data))\n",
    "    similarity = np.dot(movie_row, data.T) / (magnitude[index] * magnitude)\n",
    "    sort_indexes = np.argsort(-similarity)\n",
    "#     return sort_indexes[:top_n]\n",
    "    return sort_indexes[1:11]\n",
    "\n",
    "def get_movie_id(movie_title):\n",
    "    movie_id = movie_data[movie_data.title == title].movie_id.values[0]\n",
    "    return movie_id\n",
    "\n",
    "# Helper function to print top N similar movies\n",
    "def print_similar_movies(movie_data, movie_id, top_indexes):\n",
    "    print('Baseado no seu gosto por \"{}\" você deveria assistir:'.format(\n",
    "    movie_data[movie_data.movie_id == movie_id].title.values[0]))\n",
    "    i = 0\n",
    "    for id in top_indexes + 1:\n",
    "        i = i + 1\n",
    "        print('{0}: {1}'.format(i, movie_data[movie_data.movie_id == id].title.values[0]))"
   ]
  },
  {
   "cell_type": "code",
   "execution_count": 7,
   "metadata": {},
   "outputs": [
    {
     "name": "stdout",
     "output_type": "stream",
     "text": [
      "Baseado no seu gosto por \"90210\" você deveria assistir:\n",
      "1: Mad About You\n",
      "2: Ghost Hunters\n",
      "3: Man with a Plan\n",
      "4: Sleepy Hollow\n",
      "5: Mom\n",
      "6: Entourage\n",
      "7: Downton Abbey\n",
      "8: How It's Made\n",
      "9: Full House\n",
      "10: Triage X\n",
      "\n",
      "Total Runtime: 0.03 seconds\n"
     ]
    }
   ],
   "source": [
    "title = '90210'\n",
    "\n",
    "movie_id = get_movie_id(title)\n",
    "k = 50\n",
    "sliced = V.T[:, :k] # representative data\n",
    "indexes = top_cosine_similarity(sliced, movie_id)\n",
    "\n",
    "start_time = time.time()\n",
    "print_similar_movies(movie_data, movie_id, indexes)\n",
    "\n",
    "print ('\\nTotal Runtime: {:.2f} seconds'.format(time.time() - start_time))"
   ]
  },
  {
   "cell_type": "code",
   "execution_count": null,
   "metadata": {},
   "outputs": [],
   "source": []
  }
 ],
 "metadata": {
  "kernelspec": {
   "display_name": "Python 3",
   "language": "python",
   "name": "python3"
  },
  "language_info": {
   "codemirror_mode": {
    "name": "ipython",
    "version": 3
   },
   "file_extension": ".py",
   "mimetype": "text/x-python",
   "name": "python",
   "nbconvert_exporter": "python",
   "pygments_lexer": "ipython3",
   "version": "3.7.3"
  }
 },
 "nbformat": 4,
 "nbformat_minor": 2
}
